{
 "cells": [
  {
   "cell_type": "code",
   "execution_count": 25,
   "id": "e0fc1133",
   "metadata": {},
   "outputs": [],
   "source": [
    "import pandas as pd\n",
    "import json"
   ]
  },
  {
   "cell_type": "markdown",
   "id": "45189a4e",
   "metadata": {},
   "source": [
    "## Original Dataset Uploaded to Github with git-lfs"
   ]
  },
  {
   "cell_type": "markdown",
   "id": "a2bad84f",
   "metadata": {},
   "source": [
    "#### Dataset is too large for this project. Scope includes crimes occuring in 2006. First step is to trim the data, optimally to below github upload threshold of 100MB"
   ]
  },
  {
   "cell_type": "code",
   "execution_count": 5,
   "id": "1fd29cd2",
   "metadata": {},
   "outputs": [],
   "source": [
    "url = 'https://media.githubusercontent.com/media/man-of-moose/608_final/master/NYPD_Arrests_Data__Historic_.csv'"
   ]
  },
  {
   "cell_type": "code",
   "execution_count": 6,
   "id": "f69ec824",
   "metadata": {},
   "outputs": [],
   "source": [
    "df = pd.read_csv(url, index_col=0)"
   ]
  },
  {
   "cell_type": "code",
   "execution_count": 7,
   "id": "a70db010",
   "metadata": {},
   "outputs": [
    {
     "data": {
      "text/plain": [
       "(5308876, 18)"
      ]
     },
     "execution_count": 7,
     "metadata": {},
     "output_type": "execute_result"
    }
   ],
   "source": [
    "df.shape"
   ]
  },
  {
   "cell_type": "markdown",
   "id": "21739bf5",
   "metadata": {},
   "source": [
    "----------------------------"
   ]
  },
  {
   "cell_type": "code",
   "execution_count": 22,
   "id": "9374088e",
   "metadata": {},
   "outputs": [],
   "source": [
    "## converting arrest date to datetime\n",
    "df['ARREST_DATE'] = pd.to_datetime(df['ARREST_DATE'])"
   ]
  },
  {
   "cell_type": "code",
   "execution_count": 7,
   "id": "38ad35a0",
   "metadata": {},
   "outputs": [],
   "source": [
    "## removing all crimes which occur before 2019\n",
    "reduced = df[df['ARREST_DATE']>'2018-12-31']"
   ]
  },
  {
   "cell_type": "code",
   "execution_count": 8,
   "id": "24970e7c",
   "metadata": {},
   "outputs": [
    {
     "data": {
      "text/plain": [
       "(510537, 19)"
      ]
     },
     "execution_count": 8,
     "metadata": {},
     "output_type": "execute_result"
    }
   ],
   "source": [
    "# significantly reduced (10%)\n",
    "reduced.shape"
   ]
  },
  {
   "cell_type": "code",
   "execution_count": 14,
   "id": "c3153087",
   "metadata": {},
   "outputs": [],
   "source": [
    "## removing unused columns\n",
    "reduced = reduced.drop(['LAW_CODE', 'PD_DESC', 'LAW_CAT_CD','JURISDICTION_CODE'], axis=1)"
   ]
  },
  {
   "cell_type": "code",
   "execution_count": 16,
   "id": "e2764d50",
   "metadata": {},
   "outputs": [],
   "source": [
    "## saving data as csv\n",
    "reduced.to_csv(\"reduced_2019_plus_primary.csv\")"
   ]
  },
  {
   "cell_type": "code",
   "execution_count": 21,
   "id": "9fd2291a",
   "metadata": {},
   "outputs": [],
   "source": [
    "## saving data as json\n",
    "json_file = reduced.to_json(orient='records')"
   ]
  },
  {
   "cell_type": "code",
   "execution_count": 24,
   "id": "81b042c5",
   "metadata": {},
   "outputs": [],
   "source": [
    "## saving json file\n",
    "with open('data.json', 'w') as f:\n",
    "    json.dump(json_file, f)"
   ]
  },
  {
   "cell_type": "code",
   "execution_count": null,
   "id": "5a2a5507",
   "metadata": {},
   "outputs": [],
   "source": []
  }
 ],
 "metadata": {
  "kernelspec": {
   "display_name": "Python 3 (ipykernel)",
   "language": "python",
   "name": "python3"
  },
  "language_info": {
   "codemirror_mode": {
    "name": "ipython",
    "version": 3
   },
   "file_extension": ".py",
   "mimetype": "text/x-python",
   "name": "python",
   "nbconvert_exporter": "python",
   "pygments_lexer": "ipython3",
   "version": "3.9.1"
  }
 },
 "nbformat": 4,
 "nbformat_minor": 5
}
